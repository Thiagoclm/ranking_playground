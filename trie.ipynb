{
 "cells": [
  {
   "cell_type": "code",
   "execution_count": 1,
   "metadata": {},
   "outputs": [
    {
     "data": {
      "text/plain": [
       "['mobile', 'mouse', 'moneypot', 'monitor', 'mousepad']"
      ]
     },
     "execution_count": 1,
     "metadata": {},
     "output_type": "execute_result"
    }
   ],
   "source": [
    "# First step: order list alphabetically\n",
    "['mobile', 'mouse', 'moneypot', 'monitor', 'mousepad']"
   ]
  },
  {
   "cell_type": "code",
   "execution_count": 20,
   "metadata": {},
   "outputs": [],
   "source": [
    "class TrieNode:\n",
    "\n",
    "    def __init__(self):\n",
    "        self.children = {}\n",
    "        self.words = []\n",
    "\n",
    "class Solution:\n",
    "\n",
    "    def __init__(self):\n",
    "        self.root = TrieNode()\n",
    "\n",
    "    def add(self, word):\n",
    "        node = self.root\n",
    "        for c in word:\n",
    "            if c not in node.children:\n",
    "                node.children[c] = TrieNode()\n",
    "            node = node.children[c]\n",
    "            if len(node.words) < 3:\n",
    "                node.words.append(word)\n",
    "        return\n",
    "\n",
    "    def suggestedProducts(self, products, searchWord):\n",
    "        output = [[] for char in searchWord]\n",
    "        products.sort()\n",
    "        for word in products:\n",
    "            self.add(word)\n",
    "        node = self.root\n",
    "        for i, char in enumerate(searchWord):\n",
    "            if char in node.children:\n",
    "                node = node.children[char]\n",
    "                output[i] = node.words\n",
    "            else:\n",
    "                break\n",
    "        return output\n"
   ]
  },
  {
   "cell_type": "code",
   "execution_count": 21,
   "metadata": {},
   "outputs": [
    {
     "name": "stdout",
     "output_type": "stream",
     "text": [
      "[['mobile', 'moneypot', 'monitor'], ['mobile', 'moneypot', 'monitor'], ['mobile'], ['mobile'], ['mobile'], ['mobile']]\n"
     ]
    }
   ],
   "source": [
    "# Create an instance of the Solution class\n",
    "sol = Solution()\n",
    "\n",
    "# Call the suggestedProducts method with the correct arguments\n",
    "products = ['mobile', 'mouse', 'moneypot', 'monitor', 'mousepad']\n",
    "searchWord = 'mobile'\n",
    "result = sol.suggestedProducts(products, searchWord)\n",
    "print(result)"
   ]
  },
  {
   "cell_type": "code",
   "execution_count": null,
   "metadata": {},
   "outputs": [],
   "source": []
  },
  {
   "cell_type": "code",
   "execution_count": null,
   "metadata": {},
   "outputs": [],
   "source": []
  }
 ],
 "metadata": {
  "kernelspec": {
   "display_name": "Python 3",
   "language": "python",
   "name": "python3"
  },
  "language_info": {
   "codemirror_mode": {
    "name": "ipython",
    "version": 3
   },
   "file_extension": ".py",
   "mimetype": "text/x-python",
   "name": "python",
   "nbconvert_exporter": "python",
   "pygments_lexer": "ipython3",
   "version": "3.9.6"
  }
 },
 "nbformat": 4,
 "nbformat_minor": 2
}
